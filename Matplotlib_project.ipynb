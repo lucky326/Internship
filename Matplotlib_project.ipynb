{
 "cells": [
  {
   "cell_type": "code",
   "execution_count": 1,
   "metadata": {},
   "outputs": [
    {
     "ename": "FileNotFoundError",
     "evalue": "[WinError 3] The system cannot find the path specified: 'C:\\\\Users\\\\praja\\\\Desktop\\\\IPL Player Stats\\\\Bowling Stats'",
     "output_type": "error",
     "traceback": [
      "\u001b[1;31m---------------------------------------------------------------------------\u001b[0m",
      "\u001b[1;31mFileNotFoundError\u001b[0m                         Traceback (most recent call last)",
      "Cell \u001b[1;32mIn[1], line 19\u001b[0m\n\u001b[0;32m     16\u001b[0m subfolder_path \u001b[39m=\u001b[39m os\u001b[39m.\u001b[39mpath\u001b[39m.\u001b[39mjoin(root_folder, subfolder)\n\u001b[0;32m     18\u001b[0m \u001b[39m# Loop through CSV files in the subfolder\u001b[39;00m\n\u001b[1;32m---> 19\u001b[0m \u001b[39mfor\u001b[39;00m file \u001b[39min\u001b[39;00m os\u001b[39m.\u001b[39;49mlistdir(subfolder_path):\n\u001b[0;32m     20\u001b[0m     \u001b[39mif\u001b[39;00m file\u001b[39m.\u001b[39mendswith(\u001b[39m\"\u001b[39m\u001b[39m.csv\u001b[39m\u001b[39m\"\u001b[39m):\n\u001b[0;32m     21\u001b[0m         file_path \u001b[39m=\u001b[39m os\u001b[39m.\u001b[39mpath\u001b[39m.\u001b[39mjoin(subfolder_path, file)\n",
      "\u001b[1;31mFileNotFoundError\u001b[0m: [WinError 3] The system cannot find the path specified: 'C:\\\\Users\\\\praja\\\\Desktop\\\\IPL Player Stats\\\\Bowling Stats'"
     ]
    }
   ],
   "source": [
    "import pandas as pd\n",
    "import numpy as np\n",
    "import matplotlib.pyplot as plt\n",
    "\n",
    "import os\n",
    "import pandas as pd\n",
    "\n",
    "root_folder = \"C:\\\\Users\\\\praja\\\\Desktop\\\\IPL Player Stats\"\n",
    "\n",
    "subfolders = [\"Bowling Stats\", \"Batting Stats\"]\n",
    "\n",
    "dataframes = []\n",
    "\n",
    "for subfolder in subfolders:\n",
    "    subfolder_path = os.path.join(root_folder, subfolder)\n",
    "    \n",
    "    for file in os.listdir(subfolder_path):\n",
    "        if file.endswith(\".csv\"):\n",
    "            file_path = os.path.join(subfolder_path, file)\n",
    "            \n",
    "            df = pd.read_csv(file_path)\n",
    "            dataframes.append(df)"
   ]
  },
  {
   "cell_type": "code",
   "execution_count": null,
   "metadata": {},
   "outputs": [],
   "source": [
    "df"
   ]
  },
  {
   "cell_type": "code",
   "execution_count": null,
   "metadata": {},
   "outputs": [],
   "source": [
    "df.head()\n",
    "df.shape"
   ]
  },
  {
   "cell_type": "code",
   "execution_count": null,
   "metadata": {},
   "outputs": [],
   "source": [
    "columns = (df.columns)\n",
    "print(columns)"
   ]
  },
  {
   "cell_type": "code",
   "execution_count": null,
   "metadata": {},
   "outputs": [],
   "source": [
    "column_meanings = {\n",
    "    \"POS\": \"Player position\",\n",
    "    \"Player\": \"Player's name\",\n",
    "    \"Mat\": \"Number of matches played\",\n",
    "    \"Inns\": \"Number of innings\",\n",
    "    \"NO\": \"Number of times \n",
    "\n",
    "not out\",\n",
    "    \"Runs\": \"Total runs scored\",\n",
    "    \"HS\": \"Highest score\",\n",
    "    \"Avg\": \"Batting average\",\n",
    "    \"BF\": \"Total balls faced\",\n",
    "    \"SR\": \"Batting strike rate\",\n",
    "    \"100\": \"Number of centuries\",\n",
    "    \"50\": \"Number of half-centuries\",\n",
    "    \"4s\": \"Number of fours\",\n",
    "    \"6s\": \"Number of sixes\"\n",
    "}\n",
    "\n",
    "for column in columns:\n",
    "    print(f\"{column}: {column_meanings.get(column, 'Description not available')}\")\n",
    "    "
   ]
  },
  {
   "cell_type": "code",
   "execution_count": null,
   "metadata": {},
   "outputs": [],
   "source": [
    "df_filled = df.fillna(0)"
   ]
  },
  {
   "cell_type": "code",
   "execution_count": null,
   "metadata": {},
   "outputs": [],
   "source": [
    "df_cleaned = df.dropna()"
   ]
  },
  {
   "cell_type": "code",
   "execution_count": null,
   "metadata": {},
   "outputs": [],
   "source": [
    "\n",
    "columns_to_drop = [\"HS\", \"BF\"]\n",
    "df_cleaned = df_cleaned.drop(columns=columns_to_drop)"
   ]
  },
  {
   "cell_type": "code",
   "execution_count": null,
   "metadata": {},
   "outputs": [],
   "source": [
    "df_cleaned"
   ]
  },
  {
   "cell_type": "code",
   "execution_count": null,
   "metadata": {},
   "outputs": [],
   "source": [
    "df_cleaned['Avg'] = pd.to_numeric(df_cleaned['Avg'], errors='coerce')\n",
    "df_cleaned['SR'] = pd.to_numeric(df_cleaned['SR'], errors='coerce')\n",
    "df_cleaned['Player'] = df_cleaned['Player'].astype(str)\n",
    "print(df_cleaned.head())"
   ]
  },
  {
   "cell_type": "code",
   "execution_count": null,
   "metadata": {},
   "outputs": [],
   "source": [
    "position_grouped = df_cleaned.groupby('POS').agg({\n",
    "    'Avg': 'mean',         \n",
    "    'SR': 'mean',         \n",
    "    'Runs': 'sum',      \n",
    "    '100': 'sum',    \n",
    "    '50': 'sum',           \n",
    "    '4s': 'sum',           \n",
    "    '6s': 'sum'            \n",
    "}).reset_index()"
   ]
  },
  {
   "cell_type": "code",
   "execution_count": null,
   "metadata": {},
   "outputs": [],
   "source": [
    "position_grouped['Ranking'] = (0.4 * position_grouped['Avg']) + (0.3 * position_grouped['SR']) + (0.2 * position_grouped['Runs'])\n"
   ]
  },
  {
   "cell_type": "code",
   "execution_count": null,
   "metadata": {},
   "outputs": [],
   "source": [
    "position_grouped = position_grouped.sort_values(by=['POS', 'Ranking'], ascending=[True, False])\n"
   ]
  },
  {
   "cell_type": "code",
   "execution_count": null,
   "metadata": {},
   "outputs": [],
   "source": [
    "\n",
    "for pos in position_grouped['POS'].unique():\n",
    "    top_players = position_grouped[position_grouped['POS'] == pos].head(3)  # Display top 3 players for each position\n",
    "    print(f\"\\nTop players for position {pos}:\")\n",
    "    print(top_players)\n"
   ]
  }
 ],
 "metadata": {
  "kernelspec": {
   "display_name": "Python 3",
   "language": "python",
   "name": "python3"
  },
  "language_info": {
   "codemirror_mode": {
    "name": "ipython",
    "version": 3
   },
   "file_extension": ".py",
   "mimetype": "text/x-python",
   "name": "python",
   "nbconvert_exporter": "python",
   "pygments_lexer": "ipython3",
   "version": "3.11.4"
  },
  "orig_nbformat": 4
 },
 "nbformat": 4,
 "nbformat_minor": 2
}
